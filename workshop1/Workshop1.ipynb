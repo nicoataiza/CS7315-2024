{
  "nbformat": 4,
  "nbformat_minor": 0,
  "metadata": {
    "colab": {
      "provenance": []
    },
    "kernelspec": {
      "name": "python3",
      "display_name": "Python 3"
    },
    "language_info": {
      "name": "python"
    }
  },
  "cells": [
    {
      "cell_type": "markdown",
      "source": [
        "## Code to do green-screen point processing"
      ],
      "metadata": {
        "id": "_UEsgfduJZzU"
      }
    },
    {
      "cell_type": "code",
      "execution_count": null,
      "metadata": {
        "id": "ApJyQNxwWdtv"
      },
      "outputs": [],
      "source": [
        "from google.colab import drive\n",
        "drive.mount('/content/drive')\n",
        "\n"
      ]
    },
    {
      "cell_type": "code",
      "source": [
        "import matplotlib.pyplot as plt\n",
        "import numpy as np\n",
        "import cv2"
      ],
      "metadata": {
        "id": "REhYX3FcI0v1"
      },
      "execution_count": null,
      "outputs": []
    },
    {
      "cell_type": "code",
      "source": [
        "def display(img, caption=''):\n",
        "    # Show image using pyplot \n",
        "    plt.figure()\n",
        "    plt.imshow(img)\n",
        "    plt.title(caption)\n",
        "    plt.axis('off')\n",
        "    plt.show()\n"
      ],
      "metadata": {
        "id": "9em8esPBjCGa"
      },
      "execution_count": null,
      "outputs": []
    },
    {
      "cell_type": "code",
      "source": [
        "img = cv2.imread(\"/content/drive/MyDrive/Colab Notebooks/12.jpg\")\n",
        "print(img.shape)"
      ],
      "metadata": {
        "id": "kRsqOYZLYl49"
      },
      "execution_count": null,
      "outputs": []
    },
    {
      "cell_type": "code",
      "source": [
        "img_hsv = cv2.cvtColor(img, cv2.COLOR_BGR2HSV)\n",
        "img_hsv[1,1,0]\n",
        "\n",
        "mask1 = img_hsv[:,:,0] < 52\n",
        "print(mask1.sum())\n",
        "mask2 = img_hsv[:,:,0] >35\n",
        "print(mask2.sum())\n",
        "mask = mask1.astype(\"int\") + mask2.astype(\"int\")\n",
        "human_mask = mask < 2\n",
        "\n",
        "display(human_mask * 255,\"mask\")\n",
        "kernel = np.ones((7, 7), dtype=np.uint8)\n",
        "\n",
        "closing = cv2.morphologyEx(np.float32(human_mask), cv2.MORPH_CLOSE, kernel)\n",
        "\n",
        "display(closing * 255,\"mask\")"
      ],
      "metadata": {
        "id": "kTmOXk3MZc2e"
      },
      "execution_count": null,
      "outputs": []
    },
    {
      "cell_type": "markdown",
      "source": [
        "# Some geometric transformations of an image and corner detection"
      ],
      "metadata": {
        "id": "pyBfWYBLZJTB"
      }
    },
    {
      "cell_type": "code",
      "source": [
        "from google.colab import drive\n",
        "drive.mount('/content/drive')\n",
        "import matplotlib.pyplot as plt\n",
        "import cv2 as cv\n",
        "\n",
        "import numpy as np\n",
        "\n",
        "img = cv.imread(\"/content/drive/MyDrive/Colab Notebooks/test_img.jpg\",-1)\n",
        "print(img.shape)"
      ],
      "metadata": {
        "id": "KF8EHdxmU5Xw"
      },
      "execution_count": null,
      "outputs": []
    },
    {
      "cell_type": "code",
      "source": [
        "gray = cv.cvtColor(img,cv.COLOR_BGR2GRAY)\n",
        "gray = np.float32(gray)\n",
        "dst = cv.cornerHarris(gray,2,3,0.04)\n",
        "#result is dilated for marking the corners, not important\n",
        "\n",
        "dst1 = cv.dilate(dst,(3,3))\n",
        "# Threshold for an optimal value, it may vary depending on the image.\n",
        "img[dst>0.01*dst.max()]=[0,0,255]\n",
        "display(img,\"mask\")\n",
        "\n",
        "print(dst1[1:5,1:5])\n",
        "#img = cv.imread(\"/content/drive/MyDrive/Colab Notebooks/test_img.jpg\",-1)\n",
        "img[dst1>0.01*dst1.max()]=[0,0,255]\n",
        "display(img,\"mask\")\n",
        "\n",
        "\n",
        "#img = cv.imread(\"/content/drive/MyDrive/Colab Notebooks/test_img.jpg\",-1)\n",
        "\n",
        "image = cv.rotate(img, cv.ROTATE_90_CLOCKWISE)\n",
        "\n",
        "gray = cv.cvtColor(image,cv.COLOR_BGR2GRAY)\n",
        "gray = np.float32(gray)\n",
        "dst = cv.cornerHarris(gray,2,3,0.04)\n",
        "dst = cv.dilate(dst,None)\n",
        "# Threshold for an optimal value, it may vary depending on the image.\n",
        "image[dst>0.01*dst.max()]=[0,0,255]\n",
        "display(image,\"mask\")\n",
        "\n",
        "\n",
        "#Try changing the contrast\n",
        "#Try changing the color\n",
        "#Try changing the scale\n",
        "\n",
        "\n",
        "#img = cv.imread(\"/content/drive/MyDrive/Colab Notebooks/test_img.jpg\",-1)\n",
        "output = cv.resize(img, (480*2,293*2))\n",
        "\n",
        "gray = cv.cvtColor(output,cv.COLOR_BGR2GRAY)\n",
        "gray = np.float32(gray)\n",
        "dst = cv.cornerHarris(gray,2,3,0.04)\n",
        "#result is dilated for marking the corners, not important\n",
        "dst = cv.dilate(dst,None)\n",
        "# Threshold for an optimal value, it may vary depending on the image.\n",
        "output[dst>0.01*dst.max()]=[0,0,255]\n",
        "display(output,\"mask\")\n",
        "\n"
      ],
      "metadata": {
        "id": "BBolQ7o-Vt47"
      },
      "execution_count": null,
      "outputs": []
    }
  ]
}